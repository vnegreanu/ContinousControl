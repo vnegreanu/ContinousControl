{
 "cells": [
  {
   "cell_type": "markdown",
   "metadata": {},
   "source": [
    "# Continuous Control\n",
    "\n",
    "---\n",
    "\n",
    "You are welcome to use this coding environment to train your agent for the project.  Follow the instructions below to get started!\n",
    "\n",
    "### 1. Start the Environment\n",
    "\n",
    "Run the next code cell to install a few packages.  This line will take a few minutes to run!"
   ]
  },
  {
   "cell_type": "code",
   "execution_count": 1,
   "metadata": {},
   "outputs": [
    {
     "name": "stdout",
     "output_type": "stream",
     "text": [
      "\u001b[31mtensorflow 1.7.1 has requirement numpy>=1.13.3, but you'll have numpy 1.12.1 which is incompatible.\u001b[0m\r\n",
      "\u001b[31mipython 6.5.0 has requirement prompt-toolkit<2.0.0,>=1.0.15, but you'll have prompt-toolkit 3.0.4 which is incompatible.\u001b[0m\r\n"
     ]
    }
   ],
   "source": [
    "!pip -q install ./python"
   ]
  },
  {
   "cell_type": "markdown",
   "metadata": {},
   "source": [
    "The environments corresponding to both versions of the environment are already saved in the Workspace and can be accessed at the file paths provided below.  \n",
    "\n",
    "Please select one of the two options below for loading the environment."
   ]
  },
  {
   "cell_type": "code",
   "execution_count": 2,
   "metadata": {},
   "outputs": [
    {
     "name": "stderr",
     "output_type": "stream",
     "text": [
      "INFO:unityagents:\n",
      "'Academy' started successfully!\n",
      "Unity Academy name: Academy\n",
      "        Number of Brains: 1\n",
      "        Number of External Brains : 1\n",
      "        Lesson number : 0\n",
      "        Reset Parameters :\n",
      "\t\tgoal_speed -> 1.0\n",
      "\t\tgoal_size -> 5.0\n",
      "Unity brain name: ReacherBrain\n",
      "        Number of Visual Observations (per agent): 0\n",
      "        Vector Observation space type: continuous\n",
      "        Vector Observation space size (per agent): 33\n",
      "        Number of stacked Vector Observation: 1\n",
      "        Vector Action space type: continuous\n",
      "        Vector Action space size (per agent): 4\n",
      "        Vector Action descriptions: , , , \n"
     ]
    }
   ],
   "source": [
    "from unityagents import UnityEnvironment\n",
    "import numpy as np\n",
    "import random\n",
    "import torch\n",
    "from collections import deque\n",
    "import matplotlib.pyplot as plt\n",
    "%matplotlib inline\n",
    "\n",
    "from DDPG.ddpg_agent import Agent\n",
    "\n",
    "# select this option to load version 1 (with a single agent) of the environment\n",
    "#env = UnityEnvironment(file_name='/data/Reacher_One_Linux_NoVis/Reacher_One_Linux_NoVis.x86_64')\n",
    "\n",
    "# select this option to load version 2 (with 20 agents) of the environment\n",
    "env = UnityEnvironment(file_name='/data/Reacher_Linux_NoVis/Reacher.x86_64')"
   ]
  },
  {
   "cell_type": "markdown",
   "metadata": {},
   "source": [
    "Environments contain **_brains_** which are responsible for deciding the actions of their associated agents. Here we check for the first brain available, and set it as the default brain we will be controlling from Python."
   ]
  },
  {
   "cell_type": "code",
   "execution_count": 3,
   "metadata": {},
   "outputs": [],
   "source": [
    "# get the default brain\n",
    "brain_name = env.brain_names[0]\n",
    "brain = env.brains[brain_name]"
   ]
  },
  {
   "cell_type": "markdown",
   "metadata": {},
   "source": [
    "### 2. Examine the State and Action Spaces\n",
    "\n",
    "Run the code cell below to print some information about the environment."
   ]
  },
  {
   "cell_type": "code",
   "execution_count": 4,
   "metadata": {},
   "outputs": [
    {
     "name": "stdout",
     "output_type": "stream",
     "text": [
      "Number of agents: 20\n",
      "Size of each action: 4\n",
      "There are 20 agents. Each observes a state with length: 33\n",
      "The state for the first agent looks like: [  0.00000000e+00  -4.00000000e+00   0.00000000e+00   1.00000000e+00\n",
      "  -0.00000000e+00  -0.00000000e+00  -4.37113883e-08   0.00000000e+00\n",
      "   0.00000000e+00   0.00000000e+00   0.00000000e+00   0.00000000e+00\n",
      "   0.00000000e+00   0.00000000e+00  -1.00000000e+01   0.00000000e+00\n",
      "   1.00000000e+00  -0.00000000e+00  -0.00000000e+00  -4.37113883e-08\n",
      "   0.00000000e+00   0.00000000e+00   0.00000000e+00   0.00000000e+00\n",
      "   0.00000000e+00   0.00000000e+00   5.75471878e+00  -1.00000000e+00\n",
      "   5.55726624e+00   0.00000000e+00   1.00000000e+00   0.00000000e+00\n",
      "  -1.68164849e-01]\n"
     ]
    }
   ],
   "source": [
    "# reset the environment\n",
    "env_info = env.reset(train_mode=True)[brain_name]\n",
    "\n",
    "# number of agents\n",
    "num_agents = len(env_info.agents)\n",
    "print('Number of agents:', num_agents)\n",
    "\n",
    "# size of each action\n",
    "action_size = brain.vector_action_space_size\n",
    "print('Size of each action:', action_size)\n",
    "\n",
    "# examine the state space \n",
    "states = env_info.vector_observations\n",
    "state_size = states.shape[1]\n",
    "print('There are {} agents. Each observes a state with length: {}'.format(states.shape[0], state_size))\n",
    "print('The state for the first agent looks like:', states[0])"
   ]
  },
  {
   "cell_type": "markdown",
   "metadata": {},
   "source": [
    "### 3. Take Random Actions in the Environment\n",
    "\n",
    "In the next code cell, you will learn how to use the Python API to control the agent and receive feedback from the environment.\n",
    "\n",
    "Note that **in this coding environment, you will not be able to watch the agents while they are training**, and you should set `train_mode=True` to restart the environment."
   ]
  },
  {
   "cell_type": "code",
   "execution_count": 5,
   "metadata": {},
   "outputs": [],
   "source": [
    "#env_info = env.reset(train_mode=True)[brain_name]      # reset the environment    \n",
    "#states = env_info.vector_observations                  # get the current state (for each agent)\n",
    "#scores = np.zeros(num_agents)                          # initialize the score (for each agent)\n",
    "#while True:\n",
    "#    actions = np.random.randn(num_agents, action_size) # select an action (for each agent)\n",
    "#    actions = np.clip(actions, -1, 1)                  # all actions between -1 and 1\n",
    "#    env_info = env.step(actions)[brain_name]           # send all actions to tne environment\n",
    "#    next_states = env_info.vector_observations         # get next state (for each agent)\n",
    "#    rewards = env_info.rewards                         # get reward (for each agent)\n",
    "#    dones = env_info.local_done                        # see if episode finished\n",
    "#    scores += env_info.rewards                         # update the score (for each agent)\n",
    "#    states = next_states                               # roll over states to next time step\n",
    "#    if np.any(dones):                                  # exit loop if episode finished\n",
    "#        break\n",
    "#print('Total score (averaged over agents) this episode: {}'.format(np.mean(scores)))"
   ]
  },
  {
   "cell_type": "markdown",
   "metadata": {},
   "source": [
    "When finished, you can close the environment."
   ]
  },
  {
   "cell_type": "code",
   "execution_count": 6,
   "metadata": {},
   "outputs": [],
   "source": [
    "#env.close()"
   ]
  },
  {
   "cell_type": "markdown",
   "metadata": {},
   "source": [
    "### 4. It's Your Turn!\n",
    "\n",
    "Now it's your turn to train your own agent to solve the environment!  A few **important notes**:\n",
    "- When training the environment, set `train_mode=True`, so that the line for resetting the environment looks like the following:\n",
    "```python\n",
    "env_info = env.reset(train_mode=True)[brain_name]\n",
    "```\n",
    "- To structure your work, you're welcome to work directly in this Jupyter notebook, or you might like to start over with a new file!  You can see the list of files in the workspace by clicking on **_Jupyter_** in the top left corner of the notebook.\n",
    "- In this coding environment, you will not be able to watch the agents while they are training.  However, **_after training the agents_**, you can download the saved model weights to watch the agents on your own machine! "
   ]
  },
  {
   "cell_type": "markdown",
   "metadata": {},
   "source": [
    "### 5. Train the agent with DDPG"
   ]
  },
  {
   "cell_type": "code",
   "execution_count": 5,
   "metadata": {},
   "outputs": [
    {
     "name": "stdout",
     "output_type": "stream",
     "text": [
      "Enter ddpg...\n",
      "\n",
      "Episode:1, Score:0.51, Best Score:0.51, Average Score:0.51, Best Avg Score:0.51\n",
      "Episode:2, Score:0.50, Best Score:0.51, Average Score:0.50, Best Avg Score:0.51\n",
      "Episode:3, Score:0.97, Best Score:0.97, Average Score:0.66, Best Avg Score:0.66\n",
      "Episode:4, Score:0.75, Best Score:0.97, Average Score:0.68, Best Avg Score:0.68\n",
      "Episode:5, Score:0.79, Best Score:0.97, Average Score:0.70, Best Avg Score:0.70\n",
      "Episode:6, Score:1.40, Best Score:1.40, Average Score:0.82, Best Avg Score:0.82\n",
      "Episode:7, Score:1.22, Best Score:1.40, Average Score:0.88, Best Avg Score:0.88\n",
      "Episode:8, Score:0.94, Best Score:1.40, Average Score:0.89, Best Avg Score:0.89\n",
      "Episode:9, Score:0.99, Best Score:1.40, Average Score:0.90, Best Avg Score:0.90\n",
      "Episode:10, Score:1.29, Best Score:1.40, Average Score:0.94, Best Avg Score:0.94\n",
      "Episode:11, Score:1.61, Best Score:1.61, Average Score:1.00, Best Avg Score:1.00\n",
      "Episode:12, Score:1.57, Best Score:1.61, Average Score:1.05, Best Avg Score:1.05\n",
      "Episode:13, Score:1.66, Best Score:1.66, Average Score:1.09, Best Avg Score:1.09\n",
      "Episode:14, Score:1.96, Best Score:1.96, Average Score:1.15, Best Avg Score:1.15\n",
      "Episode:15, Score:1.84, Best Score:1.96, Average Score:1.20, Best Avg Score:1.20\n",
      "Episode:16, Score:1.83, Best Score:1.96, Average Score:1.24, Best Avg Score:1.24\n",
      "Episode:17, Score:3.18, Best Score:3.18, Average Score:1.35, Best Avg Score:1.35\n",
      "Episode:18, Score:3.12, Best Score:3.18, Average Score:1.45, Best Avg Score:1.45\n",
      "Episode:19, Score:3.21, Best Score:3.21, Average Score:1.54, Best Avg Score:1.54\n",
      "Episode:20, Score:3.61, Best Score:3.61, Average Score:1.65, Best Avg Score:1.65\n",
      "Episode:21, Score:3.28, Best Score:3.61, Average Score:1.73, Best Avg Score:1.73\n",
      "Episode:22, Score:3.89, Best Score:3.89, Average Score:1.82, Best Avg Score:1.82\n",
      "Episode:23, Score:5.29, Best Score:5.29, Average Score:1.97, Best Avg Score:1.97\n",
      "Episode:24, Score:5.44, Best Score:5.44, Average Score:2.12, Best Avg Score:2.12\n",
      "Episode:25, Score:4.82, Best Score:5.44, Average Score:2.23, Best Avg Score:2.23\n",
      "Episode:26, Score:5.24, Best Score:5.44, Average Score:2.34, Best Avg Score:2.34\n",
      "Episode:27, Score:6.09, Best Score:6.09, Average Score:2.48, Best Avg Score:2.48\n",
      "Episode:28, Score:5.96, Best Score:6.09, Average Score:2.61, Best Avg Score:2.61\n",
      "Episode:29, Score:6.88, Best Score:6.88, Average Score:2.75, Best Avg Score:2.75\n",
      "Episode:30, Score:6.01, Best Score:6.88, Average Score:2.86, Best Avg Score:2.86\n",
      "Episode:31, Score:7.43, Best Score:7.43, Average Score:3.01, Best Avg Score:3.01\n",
      "Episode:32, Score:7.93, Best Score:7.93, Average Score:3.16, Best Avg Score:3.16\n",
      "Episode:33, Score:7.94, Best Score:7.94, Average Score:3.31, Best Avg Score:3.31\n",
      "Episode:34, Score:8.42, Best Score:8.42, Average Score:3.46, Best Avg Score:3.46\n",
      "Episode:35, Score:8.68, Best Score:8.68, Average Score:3.61, Best Avg Score:3.61\n",
      "Episode:36, Score:7.88, Best Score:8.68, Average Score:3.73, Best Avg Score:3.73\n",
      "Episode:37, Score:7.55, Best Score:8.68, Average Score:3.83, Best Avg Score:3.83\n",
      "Episode:38, Score:7.91, Best Score:8.68, Average Score:3.94, Best Avg Score:3.94\n",
      "Episode:39, Score:7.88, Best Score:8.68, Average Score:4.04, Best Avg Score:4.04\n",
      "Episode:40, Score:7.91, Best Score:8.68, Average Score:4.13, Best Avg Score:4.13\n",
      "Episode:41, Score:8.29, Best Score:8.68, Average Score:4.24, Best Avg Score:4.24\n",
      "Episode:42, Score:8.43, Best Score:8.68, Average Score:4.34, Best Avg Score:4.34\n",
      "Episode:43, Score:9.44, Best Score:9.44, Average Score:4.45, Best Avg Score:4.45\n",
      "Episode:44, Score:11.67, Best Score:11.67, Average Score:4.62, Best Avg Score:4.62\n",
      "Episode:45, Score:10.55, Best Score:11.67, Average Score:4.75, Best Avg Score:4.75\n",
      "Episode:46, Score:11.64, Best Score:11.67, Average Score:4.90, Best Avg Score:4.90\n",
      "Episode:47, Score:10.39, Best Score:11.67, Average Score:5.02, Best Avg Score:5.02\n",
      "Episode:48, Score:10.18, Best Score:11.67, Average Score:5.12, Best Avg Score:5.12\n",
      "Episode:49, Score:11.36, Best Score:11.67, Average Score:5.25, Best Avg Score:5.25\n",
      "Episode:50, Score:12.67, Best Score:12.67, Average Score:5.40, Best Avg Score:5.40\n",
      "Episode:51, Score:11.88, Best Score:12.67, Average Score:5.53, Best Avg Score:5.53\n",
      "Episode:52, Score:13.40, Best Score:13.40, Average Score:5.68, Best Avg Score:5.68\n",
      "Episode:53, Score:10.31, Best Score:13.40, Average Score:5.77, Best Avg Score:5.77\n",
      "Episode:54, Score:12.10, Best Score:13.40, Average Score:5.88, Best Avg Score:5.88\n",
      "Episode:55, Score:13.25, Best Score:13.40, Average Score:6.02, Best Avg Score:6.02\n",
      "Episode:56, Score:12.06, Best Score:13.40, Average Score:6.13, Best Avg Score:6.13\n",
      "Episode:57, Score:12.25, Best Score:13.40, Average Score:6.23, Best Avg Score:6.23\n",
      "Episode:58, Score:12.48, Best Score:13.40, Average Score:6.34, Best Avg Score:6.34\n",
      "Episode:59, Score:12.75, Best Score:13.40, Average Score:6.45, Best Avg Score:6.45\n",
      "Episode:60, Score:12.29, Best Score:13.40, Average Score:6.55, Best Avg Score:6.55\n",
      "Episode:61, Score:13.28, Best Score:13.40, Average Score:6.66, Best Avg Score:6.66\n",
      "Episode:62, Score:12.07, Best Score:13.40, Average Score:6.74, Best Avg Score:6.74\n",
      "Episode:63, Score:14.06, Best Score:14.06, Average Score:6.86, Best Avg Score:6.86\n",
      "Episode:64, Score:13.38, Best Score:14.06, Average Score:6.96, Best Avg Score:6.96\n",
      "Episode:65, Score:12.53, Best Score:14.06, Average Score:7.05, Best Avg Score:7.05\n",
      "Episode:66, Score:13.25, Best Score:14.06, Average Score:7.14, Best Avg Score:7.14\n",
      "Episode:67, Score:13.42, Best Score:14.06, Average Score:7.24, Best Avg Score:7.24\n",
      "Episode:68, Score:11.51, Best Score:14.06, Average Score:7.30, Best Avg Score:7.30\n",
      "Episode:69, Score:13.25, Best Score:14.06, Average Score:7.38, Best Avg Score:7.38\n",
      "Episode:70, Score:12.20, Best Score:14.06, Average Score:7.45, Best Avg Score:7.45\n",
      "Episode:71, Score:12.63, Best Score:14.06, Average Score:7.53, Best Avg Score:7.53\n",
      "Episode:72, Score:14.21, Best Score:14.21, Average Score:7.62, Best Avg Score:7.62\n",
      "Episode:73, Score:13.77, Best Score:14.21, Average Score:7.70, Best Avg Score:7.70\n",
      "Episode:74, Score:12.29, Best Score:14.21, Average Score:7.77, Best Avg Score:7.77\n",
      "Episode:75, Score:12.07, Best Score:14.21, Average Score:7.82, Best Avg Score:7.82\n",
      "Episode:76, Score:11.72, Best Score:14.21, Average Score:7.87, Best Avg Score:7.87\n",
      "Episode:77, Score:11.37, Best Score:14.21, Average Score:7.92, Best Avg Score:7.92\n",
      "Episode:78, Score:12.93, Best Score:14.21, Average Score:7.98, Best Avg Score:7.98\n",
      "Episode:79, Score:11.45, Best Score:14.21, Average Score:8.03, Best Avg Score:8.03\n",
      "Episode:80, Score:9.95, Best Score:14.21, Average Score:8.05, Best Avg Score:8.05\n",
      "Episode:81, Score:9.38, Best Score:14.21, Average Score:8.07, Best Avg Score:8.07\n",
      "Episode:82, Score:12.51, Best Score:14.21, Average Score:8.12, Best Avg Score:8.12\n",
      "Episode:83, Score:10.44, Best Score:14.21, Average Score:8.15, Best Avg Score:8.15\n",
      "Episode:84, Score:11.13, Best Score:14.21, Average Score:8.19, Best Avg Score:8.19\n",
      "Episode:85, Score:11.31, Best Score:14.21, Average Score:8.22, Best Avg Score:8.22\n",
      "Episode:86, Score:11.02, Best Score:14.21, Average Score:8.25, Best Avg Score:8.25\n",
      "Episode:87, Score:12.23, Best Score:14.21, Average Score:8.30, Best Avg Score:8.30\n",
      "Episode:88, Score:13.06, Best Score:14.21, Average Score:8.35, Best Avg Score:8.35\n",
      "Episode:89, Score:12.53, Best Score:14.21, Average Score:8.40, Best Avg Score:8.40\n",
      "Episode:90, Score:12.86, Best Score:14.21, Average Score:8.45, Best Avg Score:8.45\n",
      "Episode:91, Score:11.65, Best Score:14.21, Average Score:8.49, Best Avg Score:8.49\n",
      "Episode:92, Score:13.64, Best Score:14.21, Average Score:8.54, Best Avg Score:8.54\n",
      "Episode:93, Score:13.30, Best Score:14.21, Average Score:8.59, Best Avg Score:8.59\n",
      "Episode:94, Score:14.50, Best Score:14.50, Average Score:8.66, Best Avg Score:8.66\n",
      "Episode:95, Score:15.93, Best Score:15.93, Average Score:8.73, Best Avg Score:8.73\n",
      "Episode:96, Score:15.02, Best Score:15.93, Average Score:8.80, Best Avg Score:8.80\n",
      "Episode:97, Score:15.89, Best Score:15.93, Average Score:8.87, Best Avg Score:8.87\n",
      "Episode:98, Score:17.90, Best Score:17.90, Average Score:8.96, Best Avg Score:8.96\n",
      "Episode:99, Score:13.05, Best Score:17.90, Average Score:9.00, Best Avg Score:9.00\n",
      "Episode:100, Score:14.71, Best Score:17.90, Average Score:9.06, Best Avg Score:9.06\n",
      "Episode:101, Score:19.07, Best Score:19.07, Average Score:9.25, Best Avg Score:9.25\n",
      "Episode:102, Score:19.16, Best Score:19.16, Average Score:9.43, Best Avg Score:9.43\n",
      "Episode:103, Score:17.69, Best Score:19.16, Average Score:9.60, Best Avg Score:9.60\n",
      "Episode:104, Score:16.05, Best Score:19.16, Average Score:9.75, Best Avg Score:9.75\n",
      "Episode:105, Score:17.87, Best Score:19.16, Average Score:9.93, Best Avg Score:9.93\n",
      "Episode:106, Score:19.56, Best Score:19.56, Average Score:10.11, Best Avg Score:10.11\n",
      "Episode:107, Score:19.44, Best Score:19.56, Average Score:10.29, Best Avg Score:10.29\n",
      "Episode:108, Score:18.48, Best Score:19.56, Average Score:10.46, Best Avg Score:10.46\n",
      "Episode:109, Score:20.78, Best Score:20.78, Average Score:10.66, Best Avg Score:10.66\n",
      "Episode:110, Score:19.19, Best Score:20.78, Average Score:10.84, Best Avg Score:10.84\n",
      "Episode:111, Score:15.58, Best Score:20.78, Average Score:10.98, Best Avg Score:10.98\n",
      "Episode:112, Score:17.25, Best Score:20.78, Average Score:11.14, Best Avg Score:11.14\n",
      "Episode:113, Score:21.44, Best Score:21.44, Average Score:11.34, Best Avg Score:11.34\n",
      "Episode:114, Score:19.39, Best Score:21.44, Average Score:11.51, Best Avg Score:11.51\n",
      "Episode:115, Score:16.90, Best Score:21.44, Average Score:11.66, Best Avg Score:11.66\n",
      "Episode:116, Score:20.50, Best Score:21.44, Average Score:11.85, Best Avg Score:11.85\n",
      "Episode:117, Score:21.68, Best Score:21.68, Average Score:12.03, Best Avg Score:12.03\n",
      "Episode:118, Score:24.00, Best Score:24.00, Average Score:12.24, Best Avg Score:12.24\n",
      "Episode:119, Score:24.22, Best Score:24.22, Average Score:12.45, Best Avg Score:12.45\n",
      "Episode:120, Score:22.97, Best Score:24.22, Average Score:12.64, Best Avg Score:12.64\n",
      "Episode:121, Score:22.13, Best Score:24.22, Average Score:12.83, Best Avg Score:12.83\n",
      "Episode:122, Score:24.25, Best Score:24.25, Average Score:13.04, Best Avg Score:13.04\n",
      "Episode:123, Score:23.17, Best Score:24.25, Average Score:13.22, Best Avg Score:13.22\n",
      "Episode:124, Score:26.44, Best Score:26.44, Average Score:13.43, Best Avg Score:13.43\n",
      "Episode:125, Score:21.30, Best Score:26.44, Average Score:13.59, Best Avg Score:13.59\n",
      "Episode:126, Score:22.24, Best Score:26.44, Average Score:13.76, Best Avg Score:13.76\n",
      "Episode:127, Score:23.70, Best Score:26.44, Average Score:13.94, Best Avg Score:13.94\n",
      "Episode:128, Score:22.49, Best Score:26.44, Average Score:14.10, Best Avg Score:14.10\n",
      "Episode:129, Score:21.61, Best Score:26.44, Average Score:14.25, Best Avg Score:14.25\n",
      "Episode:130, Score:22.09, Best Score:26.44, Average Score:14.41, Best Avg Score:14.41\n",
      "Episode:131, Score:23.61, Best Score:26.44, Average Score:14.57, Best Avg Score:14.57\n",
      "Episode:132, Score:26.58, Best Score:26.58, Average Score:14.76, Best Avg Score:14.76\n",
      "Episode:133, Score:26.04, Best Score:26.58, Average Score:14.94, Best Avg Score:14.94\n",
      "Episode:134, Score:28.40, Best Score:28.40, Average Score:15.14, Best Avg Score:15.14\n",
      "Episode:135, Score:28.17, Best Score:28.40, Average Score:15.33, Best Avg Score:15.33\n",
      "Episode:136, Score:32.41, Best Score:32.41, Average Score:15.58, Best Avg Score:15.58\n",
      "Episode:137, Score:32.76, Best Score:32.76, Average Score:15.83, Best Avg Score:15.83\n",
      "Episode:138, Score:33.12, Best Score:33.12, Average Score:16.08, Best Avg Score:16.08\n",
      "Episode:139, Score:29.56, Best Score:33.12, Average Score:16.30, Best Avg Score:16.30\n",
      "Episode:140, Score:32.87, Best Score:33.12, Average Score:16.55, Best Avg Score:16.55\n",
      "Episode:141, Score:32.06, Best Score:33.12, Average Score:16.79, Best Avg Score:16.79\n",
      "Episode:142, Score:32.55, Best Score:33.12, Average Score:17.03, Best Avg Score:17.03\n",
      "Episode:143, Score:32.42, Best Score:33.12, Average Score:17.26, Best Avg Score:17.26\n",
      "Episode:144, Score:32.83, Best Score:33.12, Average Score:17.47, Best Avg Score:17.47\n",
      "Episode:145, Score:34.78, Best Score:34.78, Average Score:17.71, Best Avg Score:17.71\n",
      "Episode:146, Score:34.09, Best Score:34.78, Average Score:17.94, Best Avg Score:17.94\n",
      "Episode:147, Score:35.04, Best Score:35.04, Average Score:18.18, Best Avg Score:18.18\n",
      "Episode:148, Score:31.38, Best Score:35.04, Average Score:18.40, Best Avg Score:18.40\n",
      "Episode:149, Score:34.82, Best Score:35.04, Average Score:18.63, Best Avg Score:18.63\n",
      "Episode:150, Score:33.35, Best Score:35.04, Average Score:18.84, Best Avg Score:18.84\n",
      "Episode:151, Score:34.04, Best Score:35.04, Average Score:19.06, Best Avg Score:19.06\n",
      "Episode:152, Score:30.44, Best Score:35.04, Average Score:19.23, Best Avg Score:19.23\n",
      "Episode:153, Score:31.53, Best Score:35.04, Average Score:19.44, Best Avg Score:19.44\n",
      "Episode:154, Score:32.73, Best Score:35.04, Average Score:19.65, Best Avg Score:19.65\n",
      "Episode:155, Score:33.74, Best Score:35.04, Average Score:19.85, Best Avg Score:19.85\n",
      "Episode:156, Score:35.14, Best Score:35.14, Average Score:20.08, Best Avg Score:20.08\n",
      "Episode:157, Score:31.60, Best Score:35.14, Average Score:20.28, Best Avg Score:20.28\n",
      "Episode:158, Score:30.09, Best Score:35.14, Average Score:20.45, Best Avg Score:20.45\n",
      "Episode:159, Score:28.08, Best Score:35.14, Average Score:20.61, Best Avg Score:20.61\n",
      "Episode:160, Score:32.98, Best Score:35.14, Average Score:20.81, Best Avg Score:20.81\n",
      "Episode:161, Score:33.73, Best Score:35.14, Average Score:21.02, Best Avg Score:21.02\n",
      "Episode:162, Score:32.72, Best Score:35.14, Average Score:21.22, Best Avg Score:21.22\n",
      "Episode:163, Score:33.67, Best Score:35.14, Average Score:21.42, Best Avg Score:21.42\n",
      "Episode:164, Score:33.78, Best Score:35.14, Average Score:21.62, Best Avg Score:21.62\n",
      "Episode:165, Score:35.93, Best Score:35.93, Average Score:21.86, Best Avg Score:21.86\n",
      "Episode:166, Score:33.00, Best Score:35.93, Average Score:22.06, Best Avg Score:22.06\n",
      "Episode:167, Score:33.90, Best Score:35.93, Average Score:22.26, Best Avg Score:22.26\n",
      "Episode:168, Score:31.54, Best Score:35.93, Average Score:22.46, Best Avg Score:22.46\n",
      "Episode:169, Score:33.41, Best Score:35.93, Average Score:22.66, Best Avg Score:22.66\n",
      "Episode:170, Score:34.52, Best Score:35.93, Average Score:22.89, Best Avg Score:22.89\n",
      "Episode:171, Score:33.41, Best Score:35.93, Average Score:23.09, Best Avg Score:23.09\n",
      "Episode:172, Score:33.56, Best Score:35.93, Average Score:23.29, Best Avg Score:23.29\n",
      "Episode:173, Score:34.30, Best Score:35.93, Average Score:23.49, Best Avg Score:23.49\n",
      "Episode:174, Score:32.09, Best Score:35.93, Average Score:23.69, Best Avg Score:23.69\n",
      "Episode:175, Score:34.22, Best Score:35.93, Average Score:23.91, Best Avg Score:23.91\n",
      "Episode:176, Score:31.59, Best Score:35.93, Average Score:24.11, Best Avg Score:24.11\n",
      "Episode:177, Score:31.80, Best Score:35.93, Average Score:24.31, Best Avg Score:24.31\n",
      "Episode:178, Score:33.97, Best Score:35.93, Average Score:24.53, Best Avg Score:24.53\n",
      "Episode:179, Score:31.76, Best Score:35.93, Average Score:24.73, Best Avg Score:24.73\n",
      "Episode:180, Score:33.07, Best Score:35.93, Average Score:24.96, Best Avg Score:24.96\n",
      "Episode:181, Score:32.15, Best Score:35.93, Average Score:25.19, Best Avg Score:25.19\n",
      "Episode:182, Score:33.63, Best Score:35.93, Average Score:25.40, Best Avg Score:25.40\n",
      "Episode:183, Score:32.39, Best Score:35.93, Average Score:25.62, Best Avg Score:25.62\n",
      "Episode:184, Score:33.57, Best Score:35.93, Average Score:25.84, Best Avg Score:25.84\n",
      "Episode:185, Score:32.05, Best Score:35.93, Average Score:26.05, Best Avg Score:26.05\n",
      "Episode:186, Score:35.13, Best Score:35.93, Average Score:26.29, Best Avg Score:26.29\n",
      "Episode:187, Score:34.19, Best Score:35.93, Average Score:26.51, Best Avg Score:26.51\n",
      "Episode:188, Score:35.80, Best Score:35.93, Average Score:26.74, Best Avg Score:26.74\n",
      "Episode:189, Score:34.35, Best Score:35.93, Average Score:26.96, Best Avg Score:26.96\n",
      "Episode:190, Score:36.32, Best Score:36.32, Average Score:27.19, Best Avg Score:27.19\n",
      "Episode:191, Score:35.37, Best Score:36.32, Average Score:27.43, Best Avg Score:27.43\n",
      "Episode:192, Score:35.98, Best Score:36.32, Average Score:27.65, Best Avg Score:27.65\n",
      "Episode:193, Score:37.36, Best Score:37.36, Average Score:27.89, Best Avg Score:27.89\n",
      "Episode:194, Score:36.79, Best Score:37.36, Average Score:28.11, Best Avg Score:28.11\n",
      "Episode:195, Score:37.23, Best Score:37.36, Average Score:28.33, Best Avg Score:28.33\n",
      "Episode:196, Score:35.12, Best Score:37.36, Average Score:28.53, Best Avg Score:28.53\n",
      "Episode:197, Score:34.25, Best Score:37.36, Average Score:28.71, Best Avg Score:28.71\n",
      "Episode:198, Score:35.09, Best Score:37.36, Average Score:28.88, Best Avg Score:28.88\n",
      "Episode:199, Score:33.77, Best Score:37.36, Average Score:29.09, Best Avg Score:29.09\n",
      "Episode:200, Score:36.22, Best Score:37.36, Average Score:29.31, Best Avg Score:29.31\n",
      "Episode:201, Score:36.13, Best Score:37.36, Average Score:29.48, Best Avg Score:29.48\n",
      "Episode:202, Score:35.32, Best Score:37.36, Average Score:29.64, Best Avg Score:29.64\n",
      "Episode:203, Score:34.76, Best Score:37.36, Average Score:29.81, Best Avg Score:29.81\n",
      "Episode:204, Score:36.51, Best Score:37.36, Average Score:30.01, Best Avg Score:30.01\n",
      "\n",
      "Environment solved in 204 episodes!\tAverage Score: 30.014\n"
     ]
    }
   ],
   "source": [
    "agent = Agent(state_size=33, action_size=4, random_seed=2)\n",
    "\n",
    "def ddpg(n_episodes=2000, max_t=1000):\n",
    "    \n",
    "    print(\"Enter ddpg...\\n\")\n",
    "    scores_deque = deque(maxlen=100)\n",
    "    scores = []\n",
    "    best_score = 0\n",
    "    best_average_score = 0\n",
    "    for i_episode in range(1, n_episodes+1):\n",
    "        average_score = 0\n",
    "        # reset the environment\n",
    "        env_info = env.reset(train_mode=True)[brain_name]\n",
    "        # get the states vector\n",
    "        states = env_info.vector_observations\n",
    "        #init score agents\n",
    "        scores_agents = np.zeros(num_agents)\n",
    "        score = 0\n",
    "        agent.reset()\n",
    "        for t in range(max_t):\n",
    "            #choose actions\n",
    "            actions = agent.act(states)\n",
    "            # send the actions to the environment\n",
    "            env_info = env.step(actions)[brain_name]\n",
    "            # get the next states\n",
    "            next_states = env_info.vector_observations\n",
    "            # get the rewards\n",
    "            rewards = env_info.rewards\n",
    "            # see if episode has finished\n",
    "            dones = env_info.local_done\n",
    "            agent.step(states, actions, rewards, next_states, dones)\n",
    "            states = next_states\n",
    "            scores_agents += rewards\n",
    "            if np.any(dones):\n",
    "                break\n",
    "        score = np.mean(scores_agents)\n",
    "        scores_deque.append(score)\n",
    "        average_score = np.mean(scores_deque)\n",
    "        scores.append(score)\n",
    "        \n",
    "        #refresh the best agent score\n",
    "        if score > best_score:\n",
    "            best_score = score\n",
    "        #refresh the best average score    \n",
    "        if average_score > best_average_score:\n",
    "            best_average_score = average_score\n",
    "        \n",
    "        #print current episode\n",
    "        print(\"Episode:{}, Score:{:.2f}, Best Score:{:.2f}, Average Score:{:.2f}, Best Avg Score:{:.2f}\".format(\n",
    "            i_episode, score, best_score, average_score, best_average_score))\n",
    "        \n",
    "        if (average_score >= 30):\n",
    "            print(\"\\nEnvironment solved in {:d} episodes!\\tAverage Score: {:.3f}\".format(\n",
    "                i_episode, average_score))\n",
    "                # Save solved model \n",
    "            torch.save(agent.actor_local.state_dict(), 'saved_data/actor_solved.pth')\n",
    "            torch.save(agent.critic_local.state_dict(), 'saved_data/critic_solved.pth')\n",
    "                \n",
    "            break # stop learning\n",
    "            \n",
    "    return scores\n",
    "\n",
    "scores = ddpg()"
   ]
  },
  {
   "cell_type": "markdown",
   "metadata": {},
   "source": [
    "### 6. Plot the scores"
   ]
  },
  {
   "cell_type": "code",
   "execution_count": 6,
   "metadata": {},
   "outputs": [
    {
     "data": {
      "image/png": "[encoded data removed]",
      "text/plain": [
       "<matplotlib.figure.Figure at 0x7f8992335b38>"
      ]
     },
     "metadata": {
      "needs_background": "light"
     },
     "output_type": "display_data"
    }
   ],
   "source": [
    "# plot the scores\n",
    "fig = plt.figure(figsize=(12, 10))\n",
    "ax = fig.add_subplot(111)\n",
    "plt.plot(np.arange(len(scores)), scores)\n",
    "plt.xlabel('Episode number')\n",
    "plt.ylabel('Score')\n",
    "plt.show()"
   ]
  },
  {
   "cell_type": "markdown",
   "metadata": {},
   "source": [
    "### 7 Close the environment"
   ]
  },
  {
   "cell_type": "code",
   "execution_count": null,
   "metadata": {},
   "outputs": [],
   "source": [
    "env.close()"
   ]
  }
 ],
 "metadata": {
  "kernelspec": {
   "display_name": "Python 3",
   "language": "python",
   "name": "python3"
  },
  "language_info": {
   "codemirror_mode": {
    "name": "ipython",
    "version": 3
   },
   "file_extension": ".py",
   "mimetype": "text/x-python",
   "name": "python",
   "nbconvert_exporter": "python",
   "pygments_lexer": "ipython3",
   "version": "3.6.3"
  }
 },
 "nbformat": 4,
 "nbformat_minor": 2
}
